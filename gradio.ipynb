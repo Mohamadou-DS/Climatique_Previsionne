import gradio as gr
import pandas as pd
import matplotlib.pyplot as plt
from sklearn.linear_model import LinearRegression
import numpy as np

# Charger des données exemple
def load_climate_data():
    dates = pd.date_range(start="2020-01-01", periods=60, freq="M")
    temperature = np.random.uniform(10, 35, size=len(dates))
    precipitation = np.random.uniform(50, 200, size=len(dates))
    data = pd.DataFrame({"Date": dates, "Temperature": temperature, "Precipitation": precipitation})
    return data

climate_data = load_climate_data()

# Fonction 1 : Statistiques descriptives
def climate_stats(data):
    stats = data[["Temperature", "Precipitation"]].describe()
    return stats.to_html()

# Fonction 2 : Visualisation des tendances
def plot_climate_trend(start_date, end_date):
    start_date = pd.to_datetime(start_date)
    end_date = pd.to_datetime(end_date)
    filtered_data = climate_data[(climate_data["Date"] >= start_date) & (climate_data["Date"] <= end_date)]
    plt.figure(figsize=(10, 6))
    plt.plot(filtered_data["Date"], filtered_data["Temperature"], label="Temperature (°C)")
    plt.plot(filtered_data["Date"], filtered_data["Precipitation"], label="Precipitation (mm)")
    plt.legend()
    plt.xlabel("Date")
    plt.ylabel("Values")
    plt.title("Tendances climatiques")
    plt.grid()
    plt.tight_layout()
    return plt

# Fonction 3 : Prévision linéaire
def climate_forecast(column, future_months):
    X = np.arange(len(climate_data)).reshape(-1, 1)
    y = climate_data[column]
    model = LinearRegression()
    model.fit(X, y)
    future_X = np.arange(len(climate_data) + future_months).reshape(-1, 1)
    predictions = model.predict(future_X)

    plt.figure(figsize=(10, 6))
    plt.plot(climate_data["Date"], y, label=f"Historique: {column}")
    future_dates = pd.date_range(start=climate_data["Date"].iloc[-1], periods=future_months + 1, freq="M")[1:]
    plt.plot(list(climate_data["Date"]) + list(future_dates), predictions, label="Prévision", linestyle="--")
    plt.xlabel("Date")
    plt.ylabel(column)
    plt.legend()
    plt.title(f"Prévision pour {column}")
    plt.grid()
    plt.tight_layout()
    return plt

# Interface avec Gradio
with gr.Blocks() as dashboard:
    gr.Markdown("## Tableau de bord climatique interactif avec Gradio")

    # Section 1 : Statistiques descriptives
    with gr.Tab("Statistiques descriptives"):
        gr.Markdown("### Affichez des statistiques descriptives des données climatiques.")
        stats_btn = gr.Button("Afficher les statistiques")
        stats_output = gr.HTML()
        stats_btn.click(fn=lambda: climate_stats(climate_data), outputs=stats_output)

    # Section 2 : Visualisation des tendances
    with gr.Tab("Tendances climatiques"):
        gr.Markdown("### Visualisez les tendances climatiques sur une période sélectionnée.")
        start_date = gr.Textbox(label="Date de début (YYYY-MM-DD)", value="2020-01-01")
        end_date = gr.Textbox(label="Date de fin (YYYY-MM-DD)", value="2024-12-01")
        trend_btn = gr.Button("Afficher les tendances")
        trend_output = gr.Plot()
        trend_btn.click(fn=plot_climate_trend, inputs=[start_date, end_date], outputs=trend_output)

    # Section 3 : Prévisions climatiques
    with gr.Tab("Prévisions"):
        gr.Markdown("### Faites une prévision linéaire des variables climatiques.")
        column_select = gr.Dropdown(["Temperature", "Precipitation"], label="Variable à prévoir")
        future_months = gr.Slider(1, 24, step=1, label="Nombre de mois dans le futur")
        forecast_btn = gr.Button("Prévoir")
        forecast_output = gr.Plot()
        forecast_btn.click(fn=climate_forecast, inputs=[column_select, future_months], outputs=forecast_output)

dashboard.launch()
